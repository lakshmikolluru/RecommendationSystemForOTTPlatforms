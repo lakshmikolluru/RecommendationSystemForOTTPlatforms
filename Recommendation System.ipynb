{
 "cells": [
  {
   "cell_type": "markdown",
   "id": "94ea1b12-4e86-488d-96e6-710b7ec762aa",
   "metadata": {},
   "source": [
    "<div style=\"font-family:Cambria; font-size:2em\">Recommendation System on OTT Platforms</div>"
   ]
  },
  {
   "cell_type": "markdown",
   "id": "319d15af-013e-45dd-a06c-c69ea95c974c",
   "metadata": {},
   "source": [
    "<div style=\"font-family:Cambria; font-size:1.2em\">Order:\n",
    "<br />1. Genre Prediction\n",
    "<br />2. Collaborative Filtering\n",
    "<br />3. Plot Filtering\n",
    "<br />4. Content-based Filtering\n",
    "<br />5. Final Recommendation System (Hybrid)</div>"
   ]
  },
  {
   "cell_type": "markdown",
   "id": "5939d11a-a7c4-48b5-80dc-5525741ee212",
   "metadata": {},
   "source": [
    "<div style=\"font-family:Cambria; font-size:1.2em\">Installing required packages</div>"
   ]
  },
  {
   "cell_type": "code",
   "execution_count": 1,
   "id": "f57079d2-11aa-4bb1-a458-d5d606de55d9",
   "metadata": {},
   "outputs": [
    {
     "name": "stdout",
     "output_type": "stream",
     "text": [
      "Requirement already satisfied: scikit-surprise in /Users/lakshmi/opt/anaconda3/lib/python3.8/site-packages (1.1.1)\r\n",
      "Requirement already satisfied: joblib>=0.11 in /Users/lakshmi/opt/anaconda3/lib/python3.8/site-packages (from scikit-surprise) (1.0.1)\r\n",
      "Requirement already satisfied: numpy>=1.11.2 in /Users/lakshmi/opt/anaconda3/lib/python3.8/site-packages (from scikit-surprise) (1.20.1)\r\n",
      "Requirement already satisfied: scipy>=1.0.0 in /Users/lakshmi/opt/anaconda3/lib/python3.8/site-packages (from scikit-surprise) (1.6.2)\r\n",
      "Requirement already satisfied: six>=1.10.0 in /Users/lakshmi/opt/anaconda3/lib/python3.8/site-packages (from scikit-surprise) (1.15.0)\r\n"
     ]
    }
   ],
   "source": [
    "import sys\n",
    "!{sys.executable} -m pip install scikit-surprise"
   ]
  },
  {
   "cell_type": "code",
   "execution_count": 2,
   "id": "ff2874a0-1a73-4d35-8065-18887f9b9df0",
   "metadata": {},
   "outputs": [
    {
     "name": "stderr",
     "output_type": "stream",
     "text": [
      "[nltk_data] Downloading package stopwords to\n",
      "[nltk_data]     /Users/lakshmi/nltk_data...\n",
      "[nltk_data]   Unzipping corpora/stopwords.zip.\n"
     ]
    },
    {
     "data": {
      "text/plain": [
       "True"
      ]
     },
     "execution_count": 2,
     "metadata": {},
     "output_type": "execute_result"
    }
   ],
   "source": [
    "import nltk\n",
    "nltk.download('stopwords')"
   ]
  },
  {
   "cell_type": "markdown",
   "id": "64d42544-d566-4b35-b2eb-e020a5ba60b9",
   "metadata": {},
   "source": [
    "<div style=\"font-family:Cambria; font-size:1.5em\">Reading OTT Platforms dataset and IMDB User Ratings dataset</div>"
   ]
  },
  {
   "cell_type": "code",
   "execution_count": 3,
   "id": "c9dd0934-88b8-43bb-b93f-2a2a4beacf55",
   "metadata": {},
   "outputs": [],
   "source": [
    "import pandas as pd\n",
    "import numpy as np\n",
    "import matplotlib.pyplot as plot\n",
    "import seaborn as sb\n",
    "import re\n",
    "import gc"
   ]
  },
  {
   "cell_type": "code",
   "execution_count": 4,
   "id": "88b9ea6e-82d5-4823-a2fd-657349e4d383",
   "metadata": {},
   "outputs": [
    {
     "data": {
      "text/html": [
       "<div>\n",
       "<style scoped>\n",
       "    .dataframe tbody tr th:only-of-type {\n",
       "        vertical-align: middle;\n",
       "    }\n",
       "\n",
       "    .dataframe tbody tr th {\n",
       "        vertical-align: top;\n",
       "    }\n",
       "\n",
       "    .dataframe thead th {\n",
       "        text-align: right;\n",
       "    }\n",
       "</style>\n",
       "<table border=\"1\" class=\"dataframe\">\n",
       "  <thead>\n",
       "    <tr style=\"text-align: right;\">\n",
       "      <th></th>\n",
       "      <th>title</th>\n",
       "      <th>genres</th>\n",
       "      <th>content_type</th>\n",
       "      <th>runtime</th>\n",
       "      <th>directors</th>\n",
       "      <th>actors</th>\n",
       "      <th>content_rating</th>\n",
       "      <th>release_year</th>\n",
       "      <th>date_added</th>\n",
       "      <th>summary</th>\n",
       "      <th>platforms</th>\n",
       "      <th>title_index</th>\n",
       "    </tr>\n",
       "  </thead>\n",
       "  <tbody>\n",
       "    <tr>\n",
       "      <th>0</th>\n",
       "      <td>Lets Fight Ghost</td>\n",
       "      <td>Crime, Drama, Fantasy, Horror, Romance</td>\n",
       "      <td>Series</td>\n",
       "      <td>&lt; 30 minutes</td>\n",
       "      <td>Tomas Alfredson</td>\n",
       "      <td>Lina Leandersson, Kåre Hedebrant, Per Ragnar, ...</td>\n",
       "      <td>R</td>\n",
       "      <td>2008</td>\n",
       "      <td>2021-03-04</td>\n",
       "      <td>A med student with a supernatural gift tries t...</td>\n",
       "      <td>Netflix</td>\n",
       "      <td>0</td>\n",
       "    </tr>\n",
       "    <tr>\n",
       "      <th>1</th>\n",
       "      <td>HOW TO BUILD A GIRL</td>\n",
       "      <td>Comedy</td>\n",
       "      <td>Movie</td>\n",
       "      <td>1-2 hour</td>\n",
       "      <td>Coky Giedroyc</td>\n",
       "      <td>Cleo, Paddy Considine, Beanie Feldstein, Dónal...</td>\n",
       "      <td>R</td>\n",
       "      <td>2020</td>\n",
       "      <td>2021-03-04</td>\n",
       "      <td>When nerdy Johanna moves to London, things get...</td>\n",
       "      <td>Netflix</td>\n",
       "      <td>1</td>\n",
       "    </tr>\n",
       "    <tr>\n",
       "      <th>2</th>\n",
       "      <td>The Con-Heartist</td>\n",
       "      <td>Comedy, Romance</td>\n",
       "      <td>Movie</td>\n",
       "      <td>&gt; 2 hrs</td>\n",
       "      <td>Mez Tharatorn</td>\n",
       "      <td>Kathaleeya McIntosh, Nadech Kugimiya, Pimchano...</td>\n",
       "      <td>Unrated</td>\n",
       "      <td>2020</td>\n",
       "      <td>2021-03-03</td>\n",
       "      <td>After her ex-boyfriend cons her out of a large...</td>\n",
       "      <td>Netflix</td>\n",
       "      <td>2</td>\n",
       "    </tr>\n",
       "    <tr>\n",
       "      <th>3</th>\n",
       "      <td>Gleboka woda</td>\n",
       "      <td>Drama</td>\n",
       "      <td>Series</td>\n",
       "      <td>&lt; 30 minutes</td>\n",
       "      <td>Magdalena Lazarkiewicz, Kasia Adamik, Olga Cha...</td>\n",
       "      <td>Katarzyna Maciag, Piotr Nowak, Marcin Dorocins...</td>\n",
       "      <td>Unrated</td>\n",
       "      <td>2011</td>\n",
       "      <td>2021-03-03</td>\n",
       "      <td>A group of social welfare workers led by their...</td>\n",
       "      <td>Netflix</td>\n",
       "      <td>3</td>\n",
       "    </tr>\n",
       "    <tr>\n",
       "      <th>4</th>\n",
       "      <td>Only a Mother</td>\n",
       "      <td>Drama</td>\n",
       "      <td>Movie</td>\n",
       "      <td>1-2 hour</td>\n",
       "      <td>Alf Sjöberg</td>\n",
       "      <td>Hugo Björne, Eva Dahlbeck, Ulf Palme, Ragnar F...</td>\n",
       "      <td>Unrated</td>\n",
       "      <td>1949</td>\n",
       "      <td>2021-03-03</td>\n",
       "      <td>An unhappily married farm worker struggling to...</td>\n",
       "      <td>Netflix</td>\n",
       "      <td>4</td>\n",
       "    </tr>\n",
       "  </tbody>\n",
       "</table>\n",
       "</div>"
      ],
      "text/plain": [
       "                 title                                  genres content_type  \\\n",
       "0     Lets Fight Ghost  Crime, Drama, Fantasy, Horror, Romance       Series   \n",
       "1  HOW TO BUILD A GIRL                                  Comedy        Movie   \n",
       "2     The Con-Heartist                         Comedy, Romance        Movie   \n",
       "3         Gleboka woda                                   Drama       Series   \n",
       "4        Only a Mother                                   Drama        Movie   \n",
       "\n",
       "        runtime                                          directors  \\\n",
       "0  < 30 minutes                                    Tomas Alfredson   \n",
       "1      1-2 hour                                      Coky Giedroyc   \n",
       "2       > 2 hrs                                      Mez Tharatorn   \n",
       "3  < 30 minutes  Magdalena Lazarkiewicz, Kasia Adamik, Olga Cha...   \n",
       "4      1-2 hour                                        Alf Sjöberg   \n",
       "\n",
       "                                              actors content_rating  \\\n",
       "0  Lina Leandersson, Kåre Hedebrant, Per Ragnar, ...              R   \n",
       "1  Cleo, Paddy Considine, Beanie Feldstein, Dónal...              R   \n",
       "2  Kathaleeya McIntosh, Nadech Kugimiya, Pimchano...        Unrated   \n",
       "3  Katarzyna Maciag, Piotr Nowak, Marcin Dorocins...        Unrated   \n",
       "4  Hugo Björne, Eva Dahlbeck, Ulf Palme, Ragnar F...        Unrated   \n",
       "\n",
       "   release_year  date_added  \\\n",
       "0          2008  2021-03-04   \n",
       "1          2020  2021-03-04   \n",
       "2          2020  2021-03-03   \n",
       "3          2011  2021-03-03   \n",
       "4          1949  2021-03-03   \n",
       "\n",
       "                                             summary platforms  title_index  \n",
       "0  A med student with a supernatural gift tries t...   Netflix            0  \n",
       "1  When nerdy Johanna moves to London, things get...   Netflix            1  \n",
       "2  After her ex-boyfriend cons her out of a large...   Netflix            2  \n",
       "3  A group of social welfare workers led by their...   Netflix            3  \n",
       "4  An unhappily married farm worker struggling to...   Netflix            4  "
      ]
     },
     "execution_count": 4,
     "metadata": {},
     "output_type": "execute_result"
    }
   ],
   "source": [
    "data=pd.read_csv(\"data/all_titles.csv\")\n",
    "data['title_index']=data.index\n",
    "data.drop([\"title_id\"], axis=1, inplace=True)\n",
    "data[:5]"
   ]
  },
  {
   "cell_type": "code",
   "execution_count": 5,
   "id": "e4baac12-51dd-478f-af59-1c5520578cd9",
   "metadata": {},
   "outputs": [
    {
     "data": {
      "text/html": [
       "<div>\n",
       "<style scoped>\n",
       "    .dataframe tbody tr th:only-of-type {\n",
       "        vertical-align: middle;\n",
       "    }\n",
       "\n",
       "    .dataframe tbody tr th {\n",
       "        vertical-align: top;\n",
       "    }\n",
       "\n",
       "    .dataframe thead th {\n",
       "        text-align: right;\n",
       "    }\n",
       "</style>\n",
       "<table border=\"1\" class=\"dataframe\">\n",
       "  <thead>\n",
       "    <tr style=\"text-align: right;\">\n",
       "      <th></th>\n",
       "      <th>reviewer</th>\n",
       "      <th>rating</th>\n",
       "      <th>title_index</th>\n",
       "    </tr>\n",
       "  </thead>\n",
       "  <tbody>\n",
       "    <tr>\n",
       "      <th>0</th>\n",
       "      <td>raeldor-96879</td>\n",
       "      <td>9.0</td>\n",
       "      <td>3082</td>\n",
       "    </tr>\n",
       "    <tr>\n",
       "      <th>1</th>\n",
       "      <td>lizadeegan</td>\n",
       "      <td>10.0</td>\n",
       "      <td>3082</td>\n",
       "    </tr>\n",
       "    <tr>\n",
       "      <th>2</th>\n",
       "      <td>NinnaMali97</td>\n",
       "      <td>9.0</td>\n",
       "      <td>3082</td>\n",
       "    </tr>\n",
       "    <tr>\n",
       "      <th>3</th>\n",
       "      <td>dimitardimitrov-47886</td>\n",
       "      <td>10.0</td>\n",
       "      <td>3082</td>\n",
       "    </tr>\n",
       "    <tr>\n",
       "      <th>4</th>\n",
       "      <td>josh-29279</td>\n",
       "      <td>10.0</td>\n",
       "      <td>3082</td>\n",
       "    </tr>\n",
       "  </tbody>\n",
       "</table>\n",
       "</div>"
      ],
      "text/plain": [
       "                reviewer  rating  title_index\n",
       "0          raeldor-96879     9.0         3082\n",
       "1             lizadeegan    10.0         3082\n",
       "2            NinnaMali97     9.0         3082\n",
       "3  dimitardimitrov-47886    10.0         3082\n",
       "4             josh-29279    10.0         3082"
      ]
     },
     "execution_count": 5,
     "metadata": {},
     "output_type": "execute_result"
    }
   ],
   "source": [
    "imdb=pd.read_csv(\"data/user_ratings.csv\")\n",
    "imdb[:5]"
   ]
  },
  {
   "cell_type": "markdown",
   "id": "d026af8a-cd0c-4e77-adea-8221d4e7252f",
   "metadata": {},
   "source": [
    "<div style=\"font-family:Cambria; font-size:1.5em\">Cleaning summaries (Used for Genre Prediction and Plot Filtering)</div>"
   ]
  },
  {
   "cell_type": "markdown",
   "id": "58445131-f1d6-4539-9271-c55101301b11",
   "metadata": {},
   "source": [
    "<div style=\"font-family:Cambria; font-size:1.2em\">Importing stop words and removing the puncutation, stop words, extra spaces, and converting all words to lower cases for each summary present in the dataset.</div>"
   ]
  },
  {
   "cell_type": "code",
   "execution_count": 6,
   "id": "5e99f6f2-a5c4-4737-99bd-693569d2920c",
   "metadata": {},
   "outputs": [],
   "source": [
    "from nltk.corpus import stopwords\n",
    "stop_words_list=stopwords.words('english')"
   ]
  },
  {
   "cell_type": "code",
   "execution_count": 7,
   "id": "40ff8c49-0124-45b4-a2cc-b53b77a34a4f",
   "metadata": {},
   "outputs": [],
   "source": [
    "def clean_summary(x):\n",
    "    x=re.sub(\"\\s+\", \" \", re.sub(\"[^\\w ]\", \" \", x)).lower()\n",
    "    x=[word for word in x.split() if not word in stop_words_list]\n",
    "    return ' '.join(x)"
   ]
  },
  {
   "cell_type": "code",
   "execution_count": 8,
   "id": "8b433864-bba8-4aa4-b2c9-b52338955255",
   "metadata": {},
   "outputs": [
    {
     "name": "stdout",
     "output_type": "stream",
     "text": [
      "CPU times: user 1.52 s, sys: 6.04 ms, total: 1.53 s\n",
      "Wall time: 1.53 s\n"
     ]
    },
    {
     "data": {
      "text/plain": [
       "0        med student supernatural gift tries cash abili...\n",
       "1        nerdy johanna moves london things get hand rei...\n",
       "2        ex boyfriend cons large sum money former bank ...\n",
       "3        group social welfare workers led new director ...\n",
       "4        unhappily married farm worker struggling care ...\n",
       "                               ...                        \n",
       "23528     merlin trains young orphan destined king england\n",
       "23529    strong willed family struggles establish wild ...\n",
       "23530                     welcome kirby world rude sketchy\n",
       "23531           ryan discovers ability control giant robot\n",
       "23532    rock imagination movers disney junior favorite...\n",
       "Name: clean_summary, Length: 23533, dtype: object"
      ]
     },
     "execution_count": 8,
     "metadata": {},
     "output_type": "execute_result"
    }
   ],
   "source": [
    "%%time\n",
    "data['clean_summary']=data.summary.apply(clean_summary)\n",
    "data.clean_summary"
   ]
  },
  {
   "cell_type": "markdown",
   "id": "53d9aacc-c031-4489-8855-1e88389c97e2",
   "metadata": {},
   "source": [
    "<div style=\"font-family:Cambria; font-size:1.2em\">Generating the document-index matrix for the summaries in the dataset</div>"
   ]
  },
  {
   "cell_type": "code",
   "execution_count": 9,
   "id": "74a8cc50-d19e-4861-93a0-7b5c152e65c7",
   "metadata": {},
   "outputs": [],
   "source": [
    "# TF-IDF : Term Frequency and Inverse Document Frequency\n",
    "from sklearn.feature_extraction.text import TfidfVectorizer\n",
    "tfidf=TfidfVectorizer()"
   ]
  },
  {
   "cell_type": "code",
   "execution_count": 10,
   "id": "f9962c26-ffb2-4fbe-b387-bf72955d2d91",
   "metadata": {},
   "outputs": [],
   "source": [
    "def makeTfidfDF(data):\n",
    "    tfidf_data=tfidf.fit_transform(data.clean_summary)\n",
    "    return pd.DataFrame(tfidf_data.todense(), columns=tfidf.get_feature_names(), \\\n",
    "                      index=data.index)"
   ]
  },
  {
   "cell_type": "markdown",
   "id": "c1842dba-77fb-4196-8de7-845f49ef26ea",
   "metadata": {},
   "source": [
    "<div style=\"font-family:Cambria; font-size:1.2em\">Creating MultiLabelBinarizer object which is used to generating binary matrices</div>"
   ]
  },
  {
   "cell_type": "code",
   "execution_count": 11,
   "id": "c6f553f5-d6ea-4b5b-9937-1dec6da3d4b1",
   "metadata": {},
   "outputs": [],
   "source": [
    "from sklearn.preprocessing import MultiLabelBinarizer\n",
    "mlb = MultiLabelBinarizer()"
   ]
  },
  {
   "cell_type": "code",
   "execution_count": 12,
   "id": "9adf0087-0671-4439-97c4-586f802b8449",
   "metadata": {},
   "outputs": [],
   "source": [
    "def makeBinaryDFs(data, columnName):\n",
    "    return pd.DataFrame(mlb.fit_transform(data[columnName].apply(lambda x: re.split(\",\\s*\", x))),\n",
    "            columns=mlb.classes_, index=data.index)"
   ]
  },
  {
   "cell_type": "markdown",
   "id": "9f6b02dd-0dc0-4650-b88a-bfa8db3fde5e",
   "metadata": {},
   "source": [
    "<div style=\"font-family:Cambria; font-size:2em\">Genre Prediction</div>"
   ]
  },
  {
   "cell_type": "markdown",
   "id": "a0be622b-32be-476c-a6da-72c4bef87cf8",
   "metadata": {},
   "source": [
    "<div style=\"font-family:Cambria; font-size:1.2em\">Aim: To predict the genres for the movies/series (that have missing genres) using the plot/summary of that movie/series.</div>"
   ]
  },
  {
   "cell_type": "markdown",
   "id": "b10af77b-5a05-4f54-9cc5-b1de106fe865",
   "metadata": {},
   "source": [
    "<div style=\"font-family:Cambria; font-size:1.2em\">Reducing to 10 genres</div>"
   ]
  },
  {
   "cell_type": "code",
   "execution_count": 13,
   "id": "0bdc032c-966d-4f8d-9eb5-aaf31f05d2b6",
   "metadata": {},
   "outputs": [],
   "source": [
    "new_genre_names={\n",
    "    \"Cooking & Food\":\"Drama\",\n",
    "    \"Family\":\"Family\",\n",
    "    \"Survival\":\"Thriller\",\n",
    "    \"Science Fiction\":\"Fiction\",\n",
    "    \"Late Night\":\"Thriller\",\n",
    "    \"Documentaries\":\"Documentary\",\n",
    "    \"Anthology\":\"Arts and Culture\",\n",
    "    \"International\":\"Other\",\n",
    "    \"Thriller\":\"Thriller\",\n",
    "    \"Travel\":\"Action\",\n",
    "    \"Action\":\"Action\",\n",
    "    \"Teen\":\"Drama\",\n",
    "    \"LGBTQ\":\"Drama\",\n",
    "    \"Biographical\":\"Documentary\",\n",
    "    \"Comedy\":\"Comedy\",\n",
    "    \"Animals & Nature\":\"Other\",\n",
    "    \"Documentary\":\"Documentary\",\n",
    "    \"Coming of Age\":\"Drama\",\n",
    "    \"Drama\":\"Drama\",\n",
    "    \"Sketch Comedy\":\"Comedy\",\n",
    "    \"Concert Film\":\"Arts and Culture\",\n",
    "    \"Talk Show\":\"Other\",\n",
    "    \"Fantasy\":\"Fiction\",\n",
    "    \"Western\":\"Arts and Culture\",\n",
    "    \"Entertainment\":\"Comedy\",\n",
    "    \"Animation\":\"Fiction\",\n",
    "    \"Romantic Comedy\":\"Comedy\",\n",
    "    \"Series\":\"Other\",\n",
    "    \"Lifestyle & Culture\":\"Arts and Culture\",\n",
    "    \"Historical\":\"Documentary\",\n",
    "    \"Variety\":\"Other\",\n",
    "    \"War\":\"Action\",\n",
    "    \"Stand Up\":\"Comedy\",\n",
    "    \"Science & Technology\":\"Fiction\",\n",
    "    \"Kids\":\"Family\",\n",
    "    \"Adult\":\"Other\",\n",
    "    \"Black Stories\":\"Other\",\n",
    "    \"Game Shows\":\"Other\",\n",
    "    \"Medical\":\"Drama\",\n",
    "    \"Musical\":\"Arts and Culture\",\n",
    "    \"Sitcom\":\"Comedy\",\n",
    "    \"Biography\":\"Documentary\",\n",
    "    \"Sport\":\"Action\",\n",
    "    \"Lifestyle\":\"Arts and Culture\",\n",
    "    \"and Culture\":\"Arts and Culture\",\n",
    "    \"Sci-Fi\":\"Fiction\",\n",
    "    \"Military and War\":\"Action\",\n",
    "    \"Latino\":\"Other\",\n",
    "    \"Talk-Show\":\"Other\",\n",
    "    \"History\":\"Documentary\",\n",
    "    \"Docuseries\":\"Documentary\",\n",
    "    \"Classics\":\"Drama\",\n",
    "    \"Spy/Espionage\":\"Thriller\",\n",
    "    \"Suspense\":\"Thriller\",\n",
    "    \"Game-Show\":\"Other\",\n",
    "    \"Music Videos and Concerts\":\"Arts and Culture\",\n",
    "    \"News\":\"Other\",\n",
    "    \"Sports\":\"Action\",\n",
    "    \"Anime\":\"Fiction\",\n",
    "    \"Crime\":\"Thriller\",\n",
    "    \"Police/Cop\":\"Thriller\",\n",
    "    \"Superhero\":\"Action\",\n",
    "    \"Music\":\"Arts and Culture\",\n",
    "    \"Adventure\":\"Action\",\n",
    "    \"Soap Opera / Melodrama\":\"Drama\",\n",
    "    \"Game Show / Competition\":\"Other\",\n",
    "    \"Short\":\"Other\",\n",
    "    \"Faith and Spirituality\":\"Arts and Culture\",\n",
    "    \"Fitness\":\"Action\",\n",
    "    \"Action-Adventure\":\"Action\",\n",
    "    \"Movies\":\"Other\",\n",
    "    \"Disaster\":\"Action\",\n",
    "    \"Talk Show and Variety\":\"Other\",\n",
    "    \"Reality\":\"Other\",\n",
    "    \"Film-Noir\":\"Drama\",\n",
    "    \"Arts\":\"Arts and Culture\",\n",
    "    \"LGBTQ+\":\"Drama\",\n",
    "    \"Mystery\":\"Thriller\",\n",
    "    \"Arthouse\":\"Arts and Culture\",\n",
    "    \"Buddy\":\"Drama\",\n",
    "    \"Dance\":\"Arts and Culture\",\n",
    "    \"Special Interest\":\"Other\",\n",
    "    \"Horror\":\"Horror\",\n",
    "    \"Young Adult Audience\":\"Drama\",\n",
    "    \"Romance\":\"Comedy\",\n",
    "    \"Parody\":\"Comedy\",\n",
    "    \"Health & Wellness\":\"Arts and Culture\",\n",
    "    \"TV Shows\":\"Other\",\n",
    "    \"Unscripted\":\"Other\",\n",
    "    \"Adult Animation\":\"Fiction\",\n",
    "    \"Reality-TV\":\"Other\",\n",
    "    \"Cartoons\":\"Fiction\"\n",
    "    }"
   ]
  },
  {
   "cell_type": "code",
   "execution_count": 14,
   "id": "7fafeae0-bde9-4757-ab3b-ea12cdf19a65",
   "metadata": {},
   "outputs": [],
   "source": [
    "def clean_genres(x):\n",
    "    genres=[]\n",
    "    for genre in re.split(\",\\s+\", x):\n",
    "        if genre in new_genre_names:\n",
    "            genres.append(new_genre_names[genre])\n",
    "        else:\n",
    "            genres.append(genre)\n",
    "    genres = sorted(set(genres))\n",
    "    return ', '.join(genres)\n",
    "\n",
    "data['clean_genres']=data.genres.apply(clean_genres)"
   ]
  },
  {
   "cell_type": "markdown",
   "id": "ad2b1bdd-7983-43ab-a51e-588f19590489",
   "metadata": {},
   "source": [
    "<div style=\"font-family:Cambria; font-size:1.2em\">List of clean genres present</div>"
   ]
  },
  {
   "cell_type": "code",
   "execution_count": 15,
   "id": "22efb7b2-9d3a-4776-886a-4b24a2057cc4",
   "metadata": {},
   "outputs": [
    {
     "name": "stdout",
     "output_type": "stream",
     "text": [
      "{'Horror', 'Comedy', 'Fiction', 'Unknown', 'Action', 'Other', 'Family', 'Thriller', 'Arts and Culture', 'Drama', 'Documentary'}\n"
     ]
    }
   ],
   "source": [
    "genres=[]\n",
    "for row in data.clean_genres.str.split(\", \"):\n",
    "    genres.extend(row)\n",
    "print(set(genres))"
   ]
  },
  {
   "cell_type": "markdown",
   "id": "2124c1b0-22d3-4a9e-82a4-e02ee37fac13",
   "metadata": {},
   "source": [
    "<div style=\"font-family:Cambria; font-size:1.2em\">Number of genres which are Unknown</div>"
   ]
  },
  {
   "cell_type": "code",
   "execution_count": 16,
   "id": "f32cefcc-1b49-4886-8f0f-d195996e4c89",
   "metadata": {},
   "outputs": [
    {
     "data": {
      "text/plain": [
       "(25, 14)"
      ]
     },
     "execution_count": 16,
     "metadata": {},
     "output_type": "execute_result"
    }
   ],
   "source": [
    "data_without_genres=data[data.genres==\"Unknown\"]\n",
    "data_without_genres.shape"
   ]
  },
  {
   "cell_type": "code",
   "execution_count": 17,
   "id": "ac9301c1-bc17-43a5-b5a1-3a99558eb4ad",
   "metadata": {},
   "outputs": [
    {
     "data": {
      "text/plain": [
       "(23508, 14)"
      ]
     },
     "execution_count": 17,
     "metadata": {},
     "output_type": "execute_result"
    }
   ],
   "source": [
    "data_with_genres=data[data.genres!=\"Unknown\"]\n",
    "data_with_genres.shape"
   ]
  },
  {
   "cell_type": "markdown",
   "id": "c60e10fd-64d1-440a-93fc-3a2fea1ea117",
   "metadata": {},
   "source": [
    "<div style=\"font-family:Cambria; font-size:1.2em\">Creating a binary matrix for genres. These represent the classes for this classification problem.</div>"
   ]
  },
  {
   "cell_type": "code",
   "execution_count": 18,
   "id": "df41597c-f194-46e8-8b95-9f7629169c46",
   "metadata": {},
   "outputs": [
    {
     "data": {
      "text/html": [
       "<div>\n",
       "<style scoped>\n",
       "    .dataframe tbody tr th:only-of-type {\n",
       "        vertical-align: middle;\n",
       "    }\n",
       "\n",
       "    .dataframe tbody tr th {\n",
       "        vertical-align: top;\n",
       "    }\n",
       "\n",
       "    .dataframe thead th {\n",
       "        text-align: right;\n",
       "    }\n",
       "</style>\n",
       "<table border=\"1\" class=\"dataframe\">\n",
       "  <thead>\n",
       "    <tr style=\"text-align: right;\">\n",
       "      <th></th>\n",
       "      <th>Action</th>\n",
       "      <th>Arts and Culture</th>\n",
       "      <th>Comedy</th>\n",
       "      <th>Documentary</th>\n",
       "      <th>Drama</th>\n",
       "      <th>Family</th>\n",
       "      <th>Fiction</th>\n",
       "      <th>Horror</th>\n",
       "      <th>Other</th>\n",
       "      <th>Thriller</th>\n",
       "    </tr>\n",
       "  </thead>\n",
       "  <tbody>\n",
       "    <tr>\n",
       "      <th>0</th>\n",
       "      <td>0</td>\n",
       "      <td>0</td>\n",
       "      <td>1</td>\n",
       "      <td>0</td>\n",
       "      <td>1</td>\n",
       "      <td>0</td>\n",
       "      <td>1</td>\n",
       "      <td>1</td>\n",
       "      <td>0</td>\n",
       "      <td>1</td>\n",
       "    </tr>\n",
       "    <tr>\n",
       "      <th>1</th>\n",
       "      <td>0</td>\n",
       "      <td>0</td>\n",
       "      <td>1</td>\n",
       "      <td>0</td>\n",
       "      <td>0</td>\n",
       "      <td>0</td>\n",
       "      <td>0</td>\n",
       "      <td>0</td>\n",
       "      <td>0</td>\n",
       "      <td>0</td>\n",
       "    </tr>\n",
       "    <tr>\n",
       "      <th>2</th>\n",
       "      <td>0</td>\n",
       "      <td>0</td>\n",
       "      <td>1</td>\n",
       "      <td>0</td>\n",
       "      <td>0</td>\n",
       "      <td>0</td>\n",
       "      <td>0</td>\n",
       "      <td>0</td>\n",
       "      <td>0</td>\n",
       "      <td>0</td>\n",
       "    </tr>\n",
       "    <tr>\n",
       "      <th>3</th>\n",
       "      <td>0</td>\n",
       "      <td>0</td>\n",
       "      <td>0</td>\n",
       "      <td>0</td>\n",
       "      <td>1</td>\n",
       "      <td>0</td>\n",
       "      <td>0</td>\n",
       "      <td>0</td>\n",
       "      <td>0</td>\n",
       "      <td>0</td>\n",
       "    </tr>\n",
       "    <tr>\n",
       "      <th>4</th>\n",
       "      <td>0</td>\n",
       "      <td>0</td>\n",
       "      <td>0</td>\n",
       "      <td>0</td>\n",
       "      <td>1</td>\n",
       "      <td>0</td>\n",
       "      <td>0</td>\n",
       "      <td>0</td>\n",
       "      <td>0</td>\n",
       "      <td>0</td>\n",
       "    </tr>\n",
       "  </tbody>\n",
       "</table>\n",
       "</div>"
      ],
      "text/plain": [
       "   Action  Arts and Culture  Comedy  Documentary  Drama  Family  Fiction  \\\n",
       "0       0                 0       1            0      1       0        1   \n",
       "1       0                 0       1            0      0       0        0   \n",
       "2       0                 0       1            0      0       0        0   \n",
       "3       0                 0       0            0      1       0        0   \n",
       "4       0                 0       0            0      1       0        0   \n",
       "\n",
       "   Horror  Other  Thriller  \n",
       "0       1      0         1  \n",
       "1       0      0         0  \n",
       "2       0      0         0  \n",
       "3       0      0         0  \n",
       "4       0      0         0  "
      ]
     },
     "execution_count": 18,
     "metadata": {},
     "output_type": "execute_result"
    }
   ],
   "source": [
    "classes=makeBinaryDFs(data_with_genres, \"clean_genres\")\n",
    "classes.head()"
   ]
  },
  {
   "cell_type": "markdown",
   "id": "10f7b92e-1b4d-49a3-b589-eff5dedd4b99",
   "metadata": {},
   "source": [
    "<div style=\"font-family:Cambria; font-size:1.2em\">The words from the summaries (the TFIDF scores) represent the features for this classification problem.</div>"
   ]
  },
  {
   "cell_type": "code",
   "execution_count": 19,
   "id": "d6577b71-5ca8-4a8d-83f3-4d6fefb397b0",
   "metadata": {},
   "outputs": [
    {
     "name": "stdout",
     "output_type": "stream",
     "text": [
      "CPU times: user 490 ms, sys: 490 ms, total: 980 ms\n",
      "Wall time: 1.09 s\n"
     ]
    }
   ],
   "source": [
    "%%time\n",
    "features=makeTfidfDF(data_with_genres)"
   ]
  },
  {
   "cell_type": "code",
   "execution_count": 20,
   "id": "5f473722-b6ac-4717-9b7c-88bbfac07cce",
   "metadata": {},
   "outputs": [
    {
     "data": {
      "text/plain": [
       "((23508, 41094), (23508, 10))"
      ]
     },
     "execution_count": 20,
     "metadata": {},
     "output_type": "execute_result"
    }
   ],
   "source": [
    "features.shape, classes.shape"
   ]
  },
  {
   "cell_type": "markdown",
   "id": "da6f0b85-8651-4908-bc2d-3136739c18d5",
   "metadata": {},
   "source": [
    "<div style=\"font-family:Cambria; font-size:1.2em\">Importing required packages from this classification problem</div>"
   ]
  },
  {
   "cell_type": "code",
   "execution_count": 21,
   "id": "194a5525-f3ed-41fe-852e-0896b10e401b",
   "metadata": {},
   "outputs": [],
   "source": [
    "from sklearn.model_selection import train_test_split\n",
    "from sklearn.multiclass import OneVsRestClassifier\n",
    "from sklearn.linear_model import LogisticRegression, SGDClassifier\n",
    "from sklearn.naive_bayes import BernoulliNB, MultinomialNB\n",
    "from sklearn.svm import LinearSVC\n",
    "from sklearn.metrics import classification_report, precision_score, hamming_loss"
   ]
  },
  {
   "cell_type": "code",
   "execution_count": 22,
   "id": "650faa29-dc96-4dd3-bd3b-bc683cff6939",
   "metadata": {},
   "outputs": [],
   "source": [
    "random_state_value=9"
   ]
  },
  {
   "cell_type": "markdown",
   "id": "76751e55-24df-4fea-8b49-3d1a4492586c",
   "metadata": {},
   "source": [
    "<div style=\"font-family:Cambria; font-size:1.2em\">Splitting the data_with_genres into train and test set</div>"
   ]
  },
  {
   "cell_type": "code",
   "execution_count": 23,
   "id": "c962e43d-283c-476f-a91c-c912bc25ca1b",
   "metadata": {},
   "outputs": [
    {
     "name": "stdout",
     "output_type": "stream",
     "text": [
      "CPU times: user 1.26 s, sys: 2.69 s, total: 3.95 s\n",
      "Wall time: 6.49 s\n"
     ]
    }
   ],
   "source": [
    "%%time\n",
    "features_train, features_test, classes_train, classes_test=train_test_split(\\\n",
    "        features, classes, test_size=0.2, random_state=random_state_value)"
   ]
  },
  {
   "cell_type": "markdown",
   "id": "20c07b81-e790-45e5-ba09-bc473572f757",
   "metadata": {},
   "source": [
    "<div style=\"font-family:Cambria; font-size:1.2em\">Models</div>"
   ]
  },
  {
   "cell_type": "code",
   "execution_count": 24,
   "id": "55a5f4c1-3e97-4fa9-947c-63cdc6c44a56",
   "metadata": {},
   "outputs": [],
   "source": [
    "models=[OneVsRestClassifier(LogisticRegression(random_state=random_state_value, solver='liblinear', \\\n",
    "                                              multi_class=\"ovr\")),\n",
    "       OneVsRestClassifier(BernoulliNB()),\n",
    "       OneVsRestClassifier(MultinomialNB()),\n",
    "       OneVsRestClassifier(SGDClassifier(random_state=random_state_value)),\n",
    "       OneVsRestClassifier(LinearSVC(multi_class=\"ovr\", random_state=random_state_value))]\n",
    "model_names=['Logistic Regression', 'Bernoulli Naive Bayes', 'Multinomial Naive Bayes', \\\n",
    "            'Stochastic Gradient Descent', 'Linear Support Vector Classification']\n",
    "precision_scores=[]\n",
    "hamming_loss_values=[]\n",
    "classification_reports=[]"
   ]
  },
  {
   "cell_type": "markdown",
   "id": "b2a15fe9-ea4a-4742-a855-983d1710768f",
   "metadata": {},
   "source": [
    "<div style=\"font-family:Cambria; font-size:1.2em\">Training, testing, evaluating models</div>"
   ]
  },
  {
   "cell_type": "code",
   "execution_count": 25,
   "id": "e643f858-a1a7-49b4-b3bb-2301a4752639",
   "metadata": {},
   "outputs": [
    {
     "name": "stdout",
     "output_type": "stream",
     "text": [
      "Procedure started with Logistic Regression\n",
      "Procedure done with Logistic Regression\n",
      "Procedure started with Bernoulli Naive Bayes\n",
      "Procedure done with Bernoulli Naive Bayes\n",
      "Procedure started with Multinomial Naive Bayes\n",
      "Procedure done with Multinomial Naive Bayes\n",
      "Procedure started with Stochastic Gradient Descent\n",
      "Procedure done with Stochastic Gradient Descent\n",
      "Procedure started with Linear Support Vector Classification\n",
      "Procedure done with Linear Support Vector Classification\n",
      "CPU times: user 9min 10s, sys: 8min 36s, total: 17min 46s\n",
      "Wall time: 1h 56s\n"
     ]
    }
   ],
   "source": [
    "%%time\n",
    "for i in range(len(models)):\n",
    "    print(f\"Procedure started with {model_names[i]}\")\n",
    "    predictions=models[i].fit(features_train, classes_train).predict(features_test)\n",
    "    precision_scores.append(precision_score(classes_test, predictions, average=\"micro\"))\n",
    "    hamming_loss_values.append(hamming_loss(classes_test, predictions))\n",
    "    classification_reports.append(classification_report(classes_test, predictions, \\\n",
    "                            target_names=classes.columns, zero_division=0, output_dict=True))\n",
    "    print(f\"Procedure done with {model_names[i]}\")"
   ]
  },
  {
   "cell_type": "markdown",
   "id": "890dd056-9f26-420f-8b00-cb04e2ac122b",
   "metadata": {},
   "source": [
    "<div style=\"font-family:Cambria; font-size:1.2em\">Visualizing the Results</div>"
   ]
  },
  {
   "cell_type": "code",
   "execution_count": 26,
   "id": "a0593e00-42d7-4e0e-a971-bc0fb9ec55d4",
   "metadata": {},
   "outputs": [
    {
     "data": {
      "image/png": "[encoded data removed]",
      "text/plain": [
       "<Figure size 1080x360 with 2 Axes>"
      ]
     },
     "metadata": {
      "needs_background": "light"
     },
     "output_type": "display_data"
    }
   ],
   "source": [
    "fig, ax=plot.subplots(1, 2, figsize=(15, 5), gridspec_kw={'width_ratios': [1, 1], 'wspace': 0.8, 'hspace': 0.4})\n",
    "\n",
    "_=pd.DataFrame([precision_scores, model_names]).T\n",
    "_.columns=['Precision', 'Model']\n",
    "sb.barplot(ax=ax[0], x='Precision', y='Model', data=_.sort_values(by='Precision', ascending=False), \\\n",
    "           palette='viridis')\n",
    "ax[0].set_ylabel(\"ML Models\")\n",
    "ax[0].set_xlabel(\"Precision Scores\")\n",
    "ax[0].set_title(\"Precision Scores for Genre Prediction\")\n",
    "ax[0].grid()\n",
    "\n",
    "_=pd.DataFrame([hamming_loss_values, model_names]).T\n",
    "_.columns=['Hamming Loss', 'Model']\n",
    "sb.barplot(ax=ax[1], x='Hamming Loss', y='Model', data=_.sort_values(by='Hamming Loss'), \\\n",
    "           palette='viridis')\n",
    "ax[1].set_ylabel(\"ML Models\")\n",
    "ax[1].set_xlabel(\"Hamming Loss Values\")\n",
    "ax[1].set_title(\"Hamming Loss for Genre Prediction\")\n",
    "ax[1].grid()"
   ]
  },
  {
   "cell_type": "code",
   "execution_count": 27,
   "id": "c1350734-b8db-4611-a1c7-5e6c703a14d6",
   "metadata": {},
   "outputs": [
    {
     "data": {
      "image/png": "[encoded data removed]",
      "text/plain": [
       "<Figure size 1080x720 with 5 Axes>"
      ]
     },
     "metadata": {
      "needs_background": "light"
     },
     "output_type": "display_data"
    }
   ],
   "source": [
    "fig, ax=plot.subplots(2, 3, figsize=(15, 10), gridspec_kw={'wspace': 0.7, 'hspace': 0.4})\n",
    "\n",
    "for i in range(len(model_names)):\n",
    "    _=pd.DataFrame([[genre, classification_reports[i][genre]['precision']] for genre in \\\n",
    "                  list(classification_reports[i].keys())[:10]], columns=['Genre', 'Precision'])\n",
    "    #plot.figure(figsize=(4, 5))\n",
    "    ax_i=ax.flatten()[i]\n",
    "    sb.barplot(ax=ax_i, x='Precision', y='Genre', palette='flare_r', \\\n",
    "               data=_.sort_values(by='Precision', ascending=False))\n",
    "    ax_i.set_ylabel(\"Genre\")\n",
    "    ax_i.set_xlabel(\"Precision Scores\")\n",
    "    ax_i.set_title(model_names[i])\n",
    "    ax_i.grid()\n",
    "fig.suptitle(\"Genre-wise Precision Scores for each Model\")\n",
    "fig.delaxes(ax[1][2])"
   ]
  },
  {
   "cell_type": "markdown",
   "id": "55d788a5-3d02-41b6-90ec-e8a49faa0c83",
   "metadata": {},
   "source": [
    "<div style=\"font-family:Cambria; font-size:1.2em\"><b>Logisitic Regression</b> model is chosen</div>"
   ]
  },
  {
   "cell_type": "code",
   "execution_count": 28,
   "id": "c42def2c-4e77-412c-9fe6-7e38dad3a015",
   "metadata": {},
   "outputs": [],
   "source": [
    "i=model_names.index('Logistic Regression')"
   ]
  },
  {
   "cell_type": "markdown",
   "id": "1ad655d2-a18e-46e5-b721-d27df9aa5fff",
   "metadata": {},
   "source": [
    "<div style=\"font-family:Cambria; font-size:1.2em\">Predicting genres for those content that have missing genres</div>"
   ]
  },
  {
   "cell_type": "code",
   "execution_count": 29,
   "id": "2b231d34-f1c4-4e44-bac2-2e449413c527",
   "metadata": {},
   "outputs": [
    {
     "name": "stdout",
     "output_type": "stream",
     "text": [
      "CPU times: user 17.4 ms, sys: 8.05 ms, total: 25.4 ms\n",
      "Wall time: 32.2 ms\n"
     ]
    }
   ],
   "source": [
    "%%time\n",
    "test=tfidf.transform(data_without_genres.summary)\n",
    "test=pd.DataFrame(test.todense(), columns=tfidf.get_feature_names(), \\\n",
    "                      index=data_without_genres.index)"
   ]
  },
  {
   "cell_type": "code",
   "execution_count": 30,
   "id": "caa2dea5-c245-45c7-8943-d30c26259d35",
   "metadata": {},
   "outputs": [],
   "source": [
    "predictions=models[i].predict(test)\n",
    "predictions=pd.DataFrame(predictions, columns=classes.columns, index=data_without_genres.index)\n",
    "predictions['title_index']=predictions.index"
   ]
  },
  {
   "cell_type": "code",
   "execution_count": 31,
   "id": "9a84bbd2-1fce-43a4-8271-5c570f680efa",
   "metadata": {},
   "outputs": [
    {
     "data": {
      "text/plain": [
       "Action                                   1\n",
       "Arts and Culture                         0\n",
       "Comedy                                   0\n",
       "Documentary                              0\n",
       "Drama                                    0\n",
       "Family                                   0\n",
       "Fiction                                  0\n",
       "Horror                                   0\n",
       "Other                                    0\n",
       "Thriller                                 1\n",
       "title_index                            169\n",
       "title               Partners: The Movie IV\n",
       "release_year                          2017\n",
       "content_type                         Movie\n",
       "Name: 0, dtype: object"
      ]
     },
     "execution_count": 31,
     "metadata": {},
     "output_type": "execute_result"
    }
   ],
   "source": [
    "# For those rows having all zeroes, put other=1.\n",
    "results=pd.merge(predictions, data[['title_index', 'title', 'release_year', 'content_type']], on='title_index')\n",
    "results.loc[0]"
   ]
  },
  {
   "cell_type": "markdown",
   "id": "f08ff61a-1038-4858-a73d-fa8a416f9263",
   "metadata": {},
   "source": [
    "<div style=\"font-family:Cambria; font-size:1.2em\">The internet shows Action, Crime, Mystery, Suspense genres for this movie 'Partners: The Movie IV. We've categoried Mystery, Crime, Suspense under Thriller. Our model predicted Action and Thriller for this movie. \n",
    "<br /><a href=\"https://dramacool.news/asian-wiki/partners-the-movie-iv.html\">https://dramacool.news/asian-wiki/partners-the-movie-iv.html</a></div>"
   ]
  },
  {
   "cell_type": "markdown",
   "id": "1b9ae9e4-4fc6-40b1-bddf-5ba736a6a075",
   "metadata": {},
   "source": [
    "<div style=\"font-family:Cambria; font-size:1.2em\">For movies/series where no genre is predicted, set it to Other genre</div>"
   ]
  },
  {
   "cell_type": "code",
   "execution_count": 32,
   "id": "c9bd1904-f074-412f-a84a-78a888a2e574",
   "metadata": {},
   "outputs": [],
   "source": [
    "results.loc[results.iloc[:, range(10)].T.sum()==0, 'Other']=1"
   ]
  },
  {
   "cell_type": "markdown",
   "id": "29de88fb-1706-4aec-b744-a69ce4fb091a",
   "metadata": {},
   "source": [
    "<div style=\"font-family:Cambria; font-size:1.2em\">Update genres in the original dataset</div>"
   ]
  },
  {
   "cell_type": "code",
   "execution_count": 33,
   "id": "c1cfb5bd-54bb-4644-a05e-ed1511526b61",
   "metadata": {},
   "outputs": [
    {
     "data": {
      "text/plain": [
       "0     None\n",
       "1     None\n",
       "2     None\n",
       "3     None\n",
       "4     None\n",
       "5     None\n",
       "6     None\n",
       "7     None\n",
       "8     None\n",
       "9     None\n",
       "10    None\n",
       "11    None\n",
       "12    None\n",
       "13    None\n",
       "14    None\n",
       "15    None\n",
       "16    None\n",
       "17    None\n",
       "18    None\n",
       "19    None\n",
       "20    None\n",
       "21    None\n",
       "22    None\n",
       "23    None\n",
       "24    None\n",
       "dtype: object"
      ]
     },
     "execution_count": 33,
     "metadata": {},
     "output_type": "execute_result"
    }
   ],
   "source": [
    "def updateGenres(x):\n",
    "    row=x.iloc[range(10)]==1\n",
    "    genres=', '.join(list(row[row].index))\n",
    "    data.loc[x.title_index, 'genres']=genres\n",
    "    \n",
    "results.apply(updateGenres, axis=1)"
   ]
  },
  {
   "cell_type": "markdown",
   "id": "ed33e293-0811-4e43-a749-8bf951836860",
   "metadata": {},
   "source": [
    "<div style=\"font-family:Cambria; font-size:1.2em\">Checking the updated genres</div>"
   ]
  },
  {
   "cell_type": "code",
   "execution_count": 34,
   "id": "6d101bb5-572d-4ac1-9e62-7a31c85d1cb3",
   "metadata": {},
   "outputs": [
    {
     "data": {
      "text/plain": [
       "169            Action, Thriller\n",
       "201                      Action\n",
       "233                       Drama\n",
       "328               Comedy, Drama\n",
       "579                       Drama\n",
       "753      Comedy, Drama, Fiction\n",
       "1124                      Drama\n",
       "1149                     Comedy\n",
       "1185                      Other\n",
       "1549              Comedy, Drama\n",
       "1893                      Other\n",
       "1948                Documentary\n",
       "2306                     Action\n",
       "2327            Family, Fiction\n",
       "2800                      Drama\n",
       "3031                      Other\n",
       "3095                      Other\n",
       "3534                      Drama\n",
       "4528            Family, Fiction\n",
       "5207    Action, Drama, Thriller\n",
       "5342                    Fiction\n",
       "5502                      Other\n",
       "7382                      Other\n",
       "7432                      Other\n",
       "8689                     Action\n",
       "Name: genres, dtype: object"
      ]
     },
     "execution_count": 34,
     "metadata": {},
     "output_type": "execute_result"
    }
   ],
   "source": [
    "data.loc[results.title_index, 'genres']"
   ]
  },
  {
   "cell_type": "markdown",
   "id": "2e379dc9-5041-4a2e-b636-47dfdb21c012",
   "metadata": {},
   "source": [
    "<div style=\"font-family:Cambria; font-size:1.2em\">The genres are updated!</div>"
   ]
  },
  {
   "cell_type": "markdown",
   "id": "d1fa934a-626a-4637-8cea-ad6ffb5292dc",
   "metadata": {},
   "source": [
    "<div style=\"font-family:Cambria; font-size:1.2em\">Delete unrequired variables</div>"
   ]
  },
  {
   "cell_type": "code",
   "execution_count": 35,
   "id": "a50d3398-de76-4401-bb37-20cdeb127e8b",
   "metadata": {},
   "outputs": [
    {
     "data": {
      "text/plain": [
       "6668"
      ]
     },
     "execution_count": 35,
     "metadata": {},
     "output_type": "execute_result"
    }
   ],
   "source": [
    "del data_with_genres, classes, features, features_test, features_train, \\\n",
    "    classes_test, classes_train, data_without_genres, predictions, models, \\\n",
    "    model_names, precision_scores, hamming_loss_values, classification_reports, \\\n",
    "    test, results\n",
    "gc.collect()"
   ]
  },
  {
   "cell_type": "markdown",
   "id": "19e18b17-97fb-420e-9adc-c6b588a6baf8",
   "metadata": {},
   "source": [
    "<div style=\"font-family:Cambria; font-size:2em\">Collaborative Filtering</div>"
   ]
  },
  {
   "cell_type": "markdown",
   "id": "b331e8b3-3d04-489c-abe4-f8f4f58f08f8",
   "metadata": {},
   "source": [
    "<div style=\"font-family:Cambria; font-size:1.2em\">Aim: To recommend movies/series to the user based on the ratings of the user to different movies/series.</div>"
   ]
  },
  {
   "cell_type": "markdown",
   "id": "8330b8cd-2c06-45ca-9990-c9e89041a982",
   "metadata": {},
   "source": [
    "<div style=\"font-family:Cambria; font-size:1.2em\">Distribution of ratings</div>"
   ]
  },
  {
   "cell_type": "code",
   "execution_count": 36,
   "id": "58c33731-c40d-4437-8e96-e8db9318cad6",
   "metadata": {},
   "outputs": [
    {
     "data": {
      "image/png": "[encoded data removed]",
      "text/plain": [
       "<Figure size 504x504 with 1 Axes>"
      ]
     },
     "metadata": {
      "needs_background": "light"
     },
     "output_type": "display_data"
    }
   ],
   "source": [
    "plot.figure(figsize=(7, 7))\n",
    "sb.countplot(data=imdb, x='rating', palette='mako')\n",
    "plot.ylabel(\"Number of Movies/Series\")\n",
    "plot.xlabel(\"Rating\")\n",
    "plot.title(\"Distribution of Ratings in the dataset\")\n",
    "plot.grid()"
   ]
  },
  {
   "cell_type": "markdown",
   "id": "8a701450-ab78-4871-9239-5f150a3656b0",
   "metadata": {},
   "source": [
    "<div style=\"font-family:Cambria; font-size:1.2em\">Generating a reviewer_id</div>"
   ]
  },
  {
   "cell_type": "code",
   "execution_count": 37,
   "id": "0287a421-284d-436f-aa75-cad5da10ec8a",
   "metadata": {},
   "outputs": [
    {
     "data": {
      "text/plain": [
       "(         reviewer  reviewer_id\n",
       " 0     SnoopyStyle            0\n",
       " 1         kosmasp            1\n",
       " 2  Leofwine_draca            2\n",
       " 3   jboothmillard            3\n",
       " 4  nogodnomasters            4,\n",
       " (629611, 2))"
      ]
     },
     "execution_count": 37,
     "metadata": {},
     "output_type": "execute_result"
    }
   ],
   "source": [
    "reviewer=imdb.reviewer.value_counts().reset_index()\n",
    "reviewer['reviewer_id']=reviewer.index\n",
    "reviewer.drop(['reviewer'], axis=1, inplace=True)\n",
    "reviewer.columns=['reviewer', 'reviewer_id']\n",
    "reviewer[:5], reviewer.shape"
   ]
  },
  {
   "cell_type": "markdown",
   "id": "19410ccf-a0ff-4bf7-8001-a08ad3db5d80",
   "metadata": {},
   "source": [
    "<div style=\"font-family:Cambria; font-size:1.2em\">Merging this with IMDB</div>"
   ]
  },
  {
   "cell_type": "code",
   "execution_count": 38,
   "id": "f9b9b51b-65ed-4cea-8934-e21427eede71",
   "metadata": {},
   "outputs": [
    {
     "data": {
      "text/html": [
       "<div>\n",
       "<style scoped>\n",
       "    .dataframe tbody tr th:only-of-type {\n",
       "        vertical-align: middle;\n",
       "    }\n",
       "\n",
       "    .dataframe tbody tr th {\n",
       "        vertical-align: top;\n",
       "    }\n",
       "\n",
       "    .dataframe thead th {\n",
       "        text-align: right;\n",
       "    }\n",
       "</style>\n",
       "<table border=\"1\" class=\"dataframe\">\n",
       "  <thead>\n",
       "    <tr style=\"text-align: right;\">\n",
       "      <th></th>\n",
       "      <th>reviewer</th>\n",
       "      <th>rating</th>\n",
       "      <th>title_index</th>\n",
       "      <th>reviewer_id</th>\n",
       "    </tr>\n",
       "  </thead>\n",
       "  <tbody>\n",
       "    <tr>\n",
       "      <th>0</th>\n",
       "      <td>raeldor-96879</td>\n",
       "      <td>9.0</td>\n",
       "      <td>3082</td>\n",
       "      <td>80644</td>\n",
       "    </tr>\n",
       "    <tr>\n",
       "      <th>1</th>\n",
       "      <td>raeldor-96879</td>\n",
       "      <td>8.0</td>\n",
       "      <td>1848</td>\n",
       "      <td>80644</td>\n",
       "    </tr>\n",
       "    <tr>\n",
       "      <th>2</th>\n",
       "      <td>raeldor-96879</td>\n",
       "      <td>9.0</td>\n",
       "      <td>1210</td>\n",
       "      <td>80644</td>\n",
       "    </tr>\n",
       "    <tr>\n",
       "      <th>3</th>\n",
       "      <td>lizadeegan</td>\n",
       "      <td>10.0</td>\n",
       "      <td>3082</td>\n",
       "      <td>488222</td>\n",
       "    </tr>\n",
       "    <tr>\n",
       "      <th>4</th>\n",
       "      <td>NinnaMali97</td>\n",
       "      <td>9.0</td>\n",
       "      <td>3082</td>\n",
       "      <td>246129</td>\n",
       "    </tr>\n",
       "  </tbody>\n",
       "</table>\n",
       "</div>"
      ],
      "text/plain": [
       "        reviewer  rating  title_index  reviewer_id\n",
       "0  raeldor-96879     9.0         3082        80644\n",
       "1  raeldor-96879     8.0         1848        80644\n",
       "2  raeldor-96879     9.0         1210        80644\n",
       "3     lizadeegan    10.0         3082       488222\n",
       "4    NinnaMali97     9.0         3082       246129"
      ]
     },
     "execution_count": 38,
     "metadata": {},
     "output_type": "execute_result"
    }
   ],
   "source": [
    "imdb=pd.merge(imdb, reviewer)\n",
    "imdb[:5]"
   ]
  },
  {
   "cell_type": "markdown",
   "id": "25c11031-a268-42bc-9aef-18cdc0408005",
   "metadata": {},
   "source": [
    "<div style=\"font-family:Cambria; font-size:1.2em\">Importing required packages for collaborative filtering</div>"
   ]
  },
  {
   "cell_type": "code",
   "execution_count": 39,
   "id": "4544bb8a-7a97-424d-819b-365431a6fc70",
   "metadata": {},
   "outputs": [],
   "source": [
    "from surprise import Dataset, Reader, SVD, accuracy, SVDpp, NMF, CoClustering, SlopeOne\n",
    "from surprise.model_selection import train_test_split, cross_validate"
   ]
  },
  {
   "cell_type": "markdown",
   "id": "dddde775-e6ab-4913-b282-7cc496a74a99",
   "metadata": {},
   "source": [
    "<div style=\"font-family:Cambria; font-size:1.2em\">Creating the Reader and Dataset object</div>"
   ]
  },
  {
   "cell_type": "code",
   "execution_count": 40,
   "id": "2a2530f1-0e09-49de-8037-0a236f72d1b6",
   "metadata": {},
   "outputs": [
    {
     "name": "stdout",
     "output_type": "stream",
     "text": [
      "CPU times: user 879 ms, sys: 58.2 ms, total: 937 ms\n",
      "Wall time: 937 ms\n"
     ]
    }
   ],
   "source": [
    "%%time\n",
    "reader=Reader(rating_scale=(1, 10))\n",
    "imdb_data=Dataset.load_from_df(imdb[['reviewer_id', 'title_index', \\\n",
    "                 'rating']], reader)"
   ]
  },
  {
   "cell_type": "code",
   "execution_count": 41,
   "id": "4d2865f3-b79e-4170-807b-1fb8fe2d07c8",
   "metadata": {},
   "outputs": [],
   "source": [
    "random_state_value=18"
   ]
  },
  {
   "cell_type": "markdown",
   "id": "a799111a-794a-4a93-9a38-002fd935be44",
   "metadata": {},
   "source": [
    "<div style=\"font-family:Cambria; font-size:1.2em\">Models</div>"
   ]
  },
  {
   "cell_type": "code",
   "execution_count": 42,
   "id": "e038a2c4-edd5-4828-853b-8511a0bc20d4",
   "metadata": {},
   "outputs": [],
   "source": [
    "models=[SVD(n_epochs=10, random_state=random_state_value),\n",
    "       SVDpp(n_epochs=10, random_state=random_state_value),\n",
    "       NMF(n_epochs=10, random_state=random_state_value),\n",
    "       SlopeOne(),\n",
    "       CoClustering(n_epochs=10, random_state=random_state_value)]\n",
    "model_names=['Singular Value Decomposition', 'Singular Value Decomposition++', 'Non-negative Matrix Factorization', \\\n",
    "             'Slope One', 'Co-Clustering']\n",
    "measures=['RMSE', 'MAE']\n",
    "cross_val_results=[]"
   ]
  },
  {
   "cell_type": "code",
   "execution_count": null,
   "id": "6d335f8e-491f-4ad2-aea2-00a1170de4f9",
   "metadata": {},
   "outputs": [
    {
     "name": "stdout",
     "output_type": "stream",
     "text": [
      "Started with Singular Value Decomposition\n",
      "Finished with Singular Value Decomposition\n",
      "Started with Singular Value Decomposition++\n"
     ]
    }
   ],
   "source": [
    "%%time\n",
    "for i in range(len(models)):\n",
    "    print(f\"Started with {model_names[i]}\")\n",
    "    cross_val_results.append(cross_validate(models[i], imdb_data, measures=measures, cv=10))\n",
    "    print(f\"Finished with {model_names[i]}\")"
   ]
  },
  {
   "cell_type": "markdown",
   "id": "1880527d-3d2d-47bc-b8c3-055cb75725dc",
   "metadata": {},
   "source": [
    "<div style=\"font-family:Cambria; font-size:1.2em\">Visualizing the cross-validation results</div>"
   ]
  },
  {
   "cell_type": "code",
   "execution_count": null,
   "id": "308768be-fcce-43ac-8309-cdfeada4647c",
   "metadata": {},
   "outputs": [],
   "source": [
    "rmse=pd.DataFrame([cross_val_results[i]['test_rmse'] for i in range(len(model_names))]).T\n",
    "rmse.columns=model_names\n",
    "plot.figure(figsize=(16, 4))\n",
    "rmse_plot=plot.boxplot(rmse, vert=0, patch_artist=True)\n",
    "#rmse_plot=sb.boxplot(data=rmse, orient='h', palette=['powderblue', 'pink', 'palegreen', 'peachpuff', 'lavender'])\n",
    "plot.ylabel(\"Collaborative Filtering Models\")\n",
    "plot.xlabel(\"Root Mean Square Error (RMSE)\")\n",
    "plot.yticks(range(1, 6), labels=model_names)\n",
    "plot.title(\"Collaborative Filtering - Cross Validation Results\")\n",
    "plot.grid()\n",
    "colors=['powderblue', 'pink', 'palegreen', 'peachpuff', 'lavender']\n",
    "for patch, color in zip(rmse_plot['boxes'], colors):\n",
    "    patch.set_facecolor(color)\n",
    "    \n",
    "mae=pd.DataFrame([cross_val_results[i]['test_mae'] for i in range(len(model_names))]).T\n",
    "mae.columns=model_names\n",
    "plot.figure(figsize=(16, 4))\n",
    "mae_plot=plot.boxplot(mae, vert=0, patch_artist=True)\n",
    "#rmse_plot=sb.boxplot(data=rmse, orient='h', palette=['powderblue', 'pink', 'palegreen', 'peachpuff', 'lavender'])\n",
    "plot.ylabel(\"Collaborative Filtering Models\")\n",
    "plot.xlabel(\"Mean Absolute Error (MAE)\")\n",
    "plot.yticks(range(1, 6), labels=model_names)\n",
    "plot.title(\"Collaborative Filtering - Cross Validation Results\")\n",
    "plot.grid()\n",
    "colors=['powderblue', 'pink', 'palegreen', 'peachpuff', 'lavender']\n",
    "for patch, color in zip(mae_plot['boxes'], colors):\n",
    "    patch.set_facecolor(color)"
   ]
  },
  {
   "cell_type": "markdown",
   "id": "a4050c80-ac3f-4e8a-82dc-750496894d3e",
   "metadata": {},
   "source": [
    "<div style=\"font-family:Cambria; font-size:1.2em\">Choosing SVD as it produces the best results</div>"
   ]
  },
  {
   "cell_type": "markdown",
   "id": "1eef87f1-5c50-403e-b78e-c247b0b202dd",
   "metadata": {},
   "source": [
    "<div style=\"font-family:Cambria; font-size:1.2em\">Splitting the user ratings dataset into train set and test set</div>"
   ]
  },
  {
   "cell_type": "code",
   "execution_count": null,
   "id": "ee7004a8-3dcf-4e1d-a30a-1fc14cc1c6e6",
   "metadata": {},
   "outputs": [],
   "source": [
    "%%time\n",
    "train_set, test_set=train_test_split(imdb_data, test_size=.20)"
   ]
  },
  {
   "cell_type": "markdown",
   "id": "5ba52404-5c11-4b09-b1dd-2ac142ce8ce5",
   "metadata": {},
   "source": [
    "<div style=\"font-family:Cambria; font-size:1.2em\">Trying different parameter values for SVD</div>"
   ]
  },
  {
   "cell_type": "code",
   "execution_count": null,
   "id": "349db1c8-0344-42cc-b0ad-55ad775ebaab",
   "metadata": {},
   "outputs": [],
   "source": [
    "svd_models=[SVD(random_state=random_state_value), # Default - factors=100, epochs=20\n",
    "            SVD(n_epochs=10, random_state=random_state_value), # Factors=100, epochs=10\n",
    "            SVD(n_factors=50, random_state=random_state_value), # Factors=50, epochs=20\n",
    "            SVD(n_factors=50, n_epochs=10, random_state=random_state_value), # Factors=50, epochs=10\n",
    "            SVD(n_factors=250, n_epochs=10, random_state=random_state_value), # Factors=250, epochs=10\n",
    "            SVD(n_factors=250, n_epochs=20, random_state=random_state_value), # Factors=250, epochs=20\n",
    "            SVD(n_epochs=50, random_state=random_state_value), # Factors=100, epochs=50\n",
    "            SVD(n_factors=250, n_epochs=50, random_state=random_state_value)] # Factors=100, epochs=50\n",
    "svd_model_params=[{'factors':100, 'epochs':20}, {'factors':100, 'epochs':10}, {'factors':50, 'epochs':20},\n",
    "                {'factors':50, 'epochs':10}, {'factors':250, 'epochs':10}, {'factors':250, 'epochs':20},\n",
    "                {'factors':100, 'epochs':50}, {'factors':250, 'epochs':50}]\n",
    "predictions=[]\n",
    "rmse_values=[]\n",
    "mae_values=[]"
   ]
  },
  {
   "cell_type": "code",
   "execution_count": null,
   "id": "01b67f15-7562-4a39-9e5b-a0d6914260f0",
   "metadata": {},
   "outputs": [],
   "source": [
    "%%time\n",
    "for i in range(len(svd_models)):\n",
    "    print(\"Started with SVD With Factors :\", svd_model_params[i]['factors'], \\\n",
    "          \" and Epochs :\", svd_model_params[i]['epochs'])\n",
    "    predictions.append(svd_models[i].fit(train_set).test(test_set))\n",
    "    rmse_values.append(accuracy.rmse(predictions[i]))\n",
    "    mae_values.append(accuracy.mae(predictions[i]))\n",
    "    print(\"Finished with this model\")"
   ]
  },
  {
   "cell_type": "code",
   "execution_count": null,
   "id": "2db6d135-ff25-4db3-b3e3-97cae897c645",
   "metadata": {},
   "outputs": [],
   "source": [
    "measures_df=pd.DataFrame(svd_model_params)\n",
    "measures_df['RMSE']=rmse_values\n",
    "measures_df['MAE']=mae_values\n",
    "measures_df['Params']=measures_df.apply(lambda x:f'n_f : {x.factors}\\nn_e : {x.epochs}', axis=1)\n",
    "measures_df"
   ]
  },
  {
   "cell_type": "code",
   "execution_count": null,
   "id": "5b5f7266-82cf-4064-84ea-a1434663b806",
   "metadata": {},
   "outputs": [],
   "source": [
    "plot.figure(figsize=(18, 5))\n",
    "sb.barplot(x='RMSE', y='Params', data=measures_df.sort_values(by='RMSE'), \\\n",
    "           palette='mako_r')\n",
    "plot.ylabel(\"SVD Parameter Values\")\n",
    "plot.xlabel(\"RMSE Score\")\n",
    "plot.xticks(np.arange(2, 3, 0.25))\n",
    "plot.title(\"RMSE Score For Different Values of Parameters for SVD\")\n",
    "plot.grid()\n",
    "\n",
    "plot.figure(figsize=(18, 5))\n",
    "sb.barplot(x='MAE', y='Params', data=measures_df.sort_values(by='MAE'), \\\n",
    "           palette='mako_r')\n",
    "plot.ylabel(\"SVD Parameter Values\")\n",
    "plot.xlabel(\"MAE Score\")\n",
    "plot.xticks(np.arange(0, 2, 0.25))\n",
    "plot.title(\"MAE Score For Different Values of Parameters for SVD\")\n",
    "plot.grid()"
   ]
  },
  {
   "cell_type": "markdown",
   "id": "04f8b28e-0cec-4ee4-b0ac-90c681bd0b69",
   "metadata": {},
   "source": [
    "<div style=\"font-family:Cambria; font-size:1.2em\">SVD works better with Factors=100, Epochs=50. We're not choosing SVD with Factors=250, Epochs=50 in order to not overfit the same.</div>"
   ]
  },
  {
   "cell_type": "code",
   "execution_count": null,
   "id": "5f4a756a-581a-43a0-a17d-8f5de7875718",
   "metadata": {},
   "outputs": [],
   "source": [
    "i=svd_model_params.index({'factors':100, 'epochs':50})"
   ]
  },
  {
   "cell_type": "code",
   "execution_count": null,
   "id": "1fe54d20-f277-4815-bf3a-34207cd2d7f0",
   "metadata": {},
   "outputs": [],
   "source": [
    "svd=svd_models[i]\n",
    "predictions=predictions[i]"
   ]
  },
  {
   "cell_type": "code",
   "execution_count": null,
   "id": "f5742a47-8af2-497e-aac2-9ef80ff7dfe7",
   "metadata": {},
   "outputs": [],
   "source": [
    "def predictRating(title_id, reviewer_id):\n",
    "    return svd.predict(uid=reviewer_id, iid=title_id).est"
   ]
  },
  {
   "cell_type": "code",
   "execution_count": null,
   "id": "a5c02469-bf8c-411a-baa8-264a86bed67e",
   "metadata": {},
   "outputs": [],
   "source": [
    "def predictThisUserRatings(reviewer_id, threshold=7500):\n",
    "    # Indices for titles from the OTT dataset which are not yet rated by this user.\n",
    "    next_indices=set(range(len(data)))-set(imdb[imdb.reviewer_id==reviewer_id].title_index)\n",
    "    # The prediction ratings for the titles in the above indices.\n",
    "    ratings=data.loc[next_indices, 'title_index'].apply(predictRating, args=(reviewer_id, ))\n",
    "    return ratings.sort_values(ascending=False).index[:threshold] "
   ]
  },
  {
   "cell_type": "markdown",
   "id": "b9250a45-8fdc-4bed-9b83-f79f744e0383",
   "metadata": {},
   "source": [
    "<div style=\"font-family:Cambria; font-size:1.2em\">Visualizing the results for SVD</div>"
   ]
  },
  {
   "cell_type": "markdown",
   "id": "96b7c7a8-ccde-40e5-a0e8-a183af948972",
   "metadata": {},
   "source": [
    "<div style=\"font-family:Cambria; font-size:1.2em\">User-Content matrix for 5 users and 5 titles from our dataset</div>"
   ]
  },
  {
   "cell_type": "code",
   "execution_count": null,
   "id": "c331be50-f872-4f43-a0df-4a5abf8d82b0",
   "metadata": {},
   "outputs": [],
   "source": [
    "new_data=pd.DataFrame()\n",
    "uid=[10, 18,  2,  5, 16]\n",
    "cid=[8723, 8380, 6127, 9, 9195]\n",
    "for i in uid:\n",
    "    for j in cid:\n",
    "        row=imdb[(imdb.reviewer_id==i) & (imdb.title_index==j)]\n",
    "        if row.shape[0]==0:\n",
    "            new_data.loc[i, data[data.title_index==j].title[j]]=f\"P : {svd.predict(uid=i, iid=j).est}\"\n",
    "        else:\n",
    "            new_data.loc[i, data[data.title_index==j].title[j]]=float(row.rating)\n",
    "new_data"
   ]
  },
  {
   "cell_type": "markdown",
   "id": "5289aa63-02d9-4618-9172-7ff0835af709",
   "metadata": {},
   "source": [
    "<div style=\"font-family:Cambria; font-size:1.2em\">The next 5 movies the user 'Leofwine_draca' would enjoy based on ratings provided by this user.</div>"
   ]
  },
  {
   "cell_type": "code",
   "execution_count": null,
   "id": "f2296f6c-71b7-443b-b7e2-64f769f38c71",
   "metadata": {},
   "outputs": [],
   "source": [
    "#imdb[imdb.reviewer_id==2].reviewer\n",
    "next_indices=set(range(len(data)))-set(imdb[imdb.reviewer_id==2].title_index)\n",
    "# The prediction ratings for the titles in the above indices.\n",
    "ratings=data.loc[next_indices, 'title_index'].apply(predictRating, args=(2, ))\n",
    "ratings=ratings.sort_values(ascending=False)\n",
    "next_indices=ratings.index[:5]\n",
    "top5=data.loc[next_indices][['title', 'content_type', 'release_year', 'platforms']]\n",
    "top5['predicted_rating']=ratings[:5]\n",
    "top5"
   ]
  },
  {
   "cell_type": "markdown",
   "id": "19247622-bcf8-4490-94de-29baa35f7e7a",
   "metadata": {},
   "source": [
    "<div style=\"font-family:Cambria; font-size:2em\">Plot and Content-based Filtering</div>"
   ]
  },
  {
   "cell_type": "markdown",
   "id": "a7e4a4b9-f610-429e-a48d-f85184923ff0",
   "metadata": {},
   "source": [
    "<div style=\"font-family:Cambria; font-size:1.2em\">Aim: To recommend movies/series based on the plot and other content features like genres, directors, actors and content ratings of a certain movie/series to a particular user.</div>"
   ]
  },
  {
   "cell_type": "markdown",
   "id": "f3779ee0-fb56-41a1-ab96-ef4553ce9427",
   "metadata": {},
   "source": [
    "<div style=\"font-family:Cambria; font-size:1.2em\">Both the plot and content-based Filtering are combined and are performed on the top 5000 (threshold) results returned by the collaborative filtering. This is also the <b>Hybrid</b> recommendation system.</div>"
   ]
  },
  {
   "cell_type": "markdown",
   "id": "bca4d333-25fd-4e78-bba3-4ea0176f99fc",
   "metadata": {},
   "source": [
    "<div style=\"font-family:Cambria; font-size:1.2em\">TFIDF values are between 0 and 1, so we're not performing normalization for them.</div>"
   ]
  },
  {
   "cell_type": "markdown",
   "id": "26bd3251-3ecb-40b5-a103-85f95e2f0ae0",
   "metadata": {},
   "source": [
    "<div style=\"font-family:Cambria; font-size:1.2em\">Some data analysis for plot-based filtering</div>"
   ]
  },
  {
   "cell_type": "code",
   "execution_count": null,
   "id": "eda5b3f0-8e2a-4a92-a731-0ac2ac461476",
   "metadata": {},
   "outputs": [],
   "source": [
    "tfidf_data=makeTfidfDF(data)\n",
    "tfidf_data=tfidf_data.mean().sort_values(ascending=False)[:10].reset_index()\n",
    "tfidf_data.rename(columns={\"index\":\"Words\", 0:\"TF-IDF Score\"}, inplace=True)"
   ]
  },
  {
   "cell_type": "code",
   "execution_count": null,
   "id": "d799c317-1199-453c-9beb-30ea8461ea5f",
   "metadata": {},
   "outputs": [],
   "source": [
    "plot.figure(figsize=(7, 5))\n",
    "sb.barplot(y='Words', x='TF-IDF Score', data=tfidf_data, palette='Greens_r')\n",
    "plot.title(\"Top 10 Important Words from the Plots in the dataset\")\n",
    "plot.grid()"
   ]
  },
  {
   "cell_type": "markdown",
   "id": "1454d1a2-7393-4cd5-9894-ba69aaf65ca7",
   "metadata": {},
   "source": [
    "<div style=\"font-family:Cambria; font-size:1.2em\">Some data analysis for content-based filtering</div>"
   ]
  },
  {
   "cell_type": "code",
   "execution_count": null,
   "id": "ff425ef6-6e9b-4039-a920-51a74ead71ce",
   "metadata": {},
   "outputs": [],
   "source": [
    "fig, ax=plot.subplots(1, 2, figsize=(15, 5), gridspec_kw={'width_ratios': [1, 1], 'wspace': 0.3, 'hspace': 0.4})\n",
    "\n",
    "words=[]\n",
    "for row in data.genres:\n",
    "    words.extend(re.split(\",\\s*\", row))\n",
    "words=pd.Series(words).value_counts().reset_index()\n",
    "words.rename(columns={\"index\":\"words\", 0:\"count\"}, inplace=True)\n",
    "\n",
    "plot.figure(figsize=(7, 5))\n",
    "sb.barplot(ax=ax[0], x='words', y='count', data=words[:10], palette='Blues_r')\n",
    "ax[0].set_ylabel(\"Number of Movies/Series\")\n",
    "ax[0].set_xlabel(\"Genres\")\n",
    "ax[0].set_xticklabels(labels=words.words[:10], rotation=90)\n",
    "ax[0].set_title(\"Top 10 Genres with most Content\")\n",
    "ax[0].grid()\n",
    "\n",
    "words=data.content_rating.value_counts().reset_index()\n",
    "words.rename(columns={\"index\":\"words\", \"content_rating\":\"count\"}, inplace=True)\n",
    "\n",
    "plot.figure(figsize=(6, 4))\n",
    "sb.barplot(ax=ax[1], x='words', y='count', data=words[:10], palette='Blues_r')\n",
    "ax[1].set_ylabel(\"Number of Movies/Series\")\n",
    "ax[1].set_xlabel(\"Content ratings\")\n",
    "ax[1].set_xticklabels(labels=words.words[:10], rotation=90)\n",
    "ax[1].set_title(\"Top 10 content ratings with most Content\")\n",
    "ax[1].grid()"
   ]
  },
  {
   "cell_type": "code",
   "execution_count": null,
   "id": "16fc7b7a-c606-4fed-b4f0-feaad05bd9da",
   "metadata": {},
   "outputs": [],
   "source": [
    "fig, ax=plot.subplots(1, 2, figsize=(15, 5), gridspec_kw={'width_ratios': [1, 1], 'wspace': 0.3, 'hspace': 0.4})\n",
    "\n",
    "words=[]\n",
    "for row in data[data.actors!=\"Unknown\"].actors:\n",
    "    words.extend(re.split(\",\\s*\", row))\n",
    "words=pd.Series(words).value_counts().reset_index()\n",
    "words.rename(columns={\"index\":\"words\", 0:\"count\"}, inplace=True)\n",
    "\n",
    "plot.figure(figsize=(7, 5))\n",
    "sb.barplot(ax=ax[1], x='words', y='count', data=words[1:11], palette='Blues_r')\n",
    "ax[1].set_ylabel(\"Number of Movies/Series\")\n",
    "ax[1].set_xlabel(\"Cast & Crew\")\n",
    "ax[1].set_xticklabels(labels=words.words[:10], rotation=90)\n",
    "ax[1].set_title(\"Top 10 Cast & Crew with most Content\")\n",
    "ax[1].grid()\n",
    "\n",
    "words=[]\n",
    "for row in data[data.directors!=\"Unknown\"].directors:\n",
    "    words.extend(re.split(\",\\s*\", row))\n",
    "words=pd.Series(words).value_counts().reset_index()\n",
    "words.rename(columns={\"index\":\"words\", 0:\"count\"}, inplace=True)\n",
    "\n",
    "plot.figure(figsize=(7, 5))\n",
    "sb.barplot(ax=ax[0], x='words', y='count', data=words[:10], palette='Blues_r')\n",
    "ax[0].set_ylabel(\"Number of Movies/Series\")\n",
    "ax[0].set_xlabel(\"Directors\")\n",
    "ax[0].set_xticklabels(labels=words.words[:10], rotation=90)\n",
    "ax[0].set_title(\"Top 10 Directors with most Content\")\n",
    "ax[0].grid()"
   ]
  },
  {
   "cell_type": "code",
   "execution_count": null,
   "id": "64b64934-6063-4d9f-a19c-987de6c3f623",
   "metadata": {},
   "outputs": [],
   "source": [
    "data[data.actors==\"Maggie Binkley\"][['title', 'genres', 'content_type', 'platforms']][:10]"
   ]
  },
  {
   "cell_type": "code",
   "execution_count": null,
   "id": "31d8e2a0-7456-410e-9865-2e33735a72cc",
   "metadata": {},
   "outputs": [],
   "source": [
    "data[data.actors==\"Pinto Colvig\"][['title', 'genres', 'content_type', 'platforms']][:10]"
   ]
  },
  {
   "cell_type": "code",
   "execution_count": null,
   "id": "979d2155-4552-4367-8ecc-00757b2f9412",
   "metadata": {},
   "outputs": [],
   "source": [
    "data[data.directors==\"Mark Knight\"][['title', 'genres', 'content_type', 'platforms']][:10]"
   ]
  },
  {
   "cell_type": "code",
   "execution_count": null,
   "id": "75bcfc0b-2e85-4718-ac7f-5b1f4204835f",
   "metadata": {},
   "outputs": [],
   "source": [
    "from sklearn.metrics.pairwise import cosine_similarity"
   ]
  },
  {
   "cell_type": "markdown",
   "id": "9c62d77f-f563-42e0-81a8-93bf1b1b3c24",
   "metadata": {},
   "source": [
    "<div style=\"font-family:Cambria; font-size:1.2em\">Build the recommender function</div>"
   ]
  },
  {
   "cell_type": "code",
   "execution_count": null,
   "id": "a37311b9-fa06-449d-bd35-c9ac87e139f2",
   "metadata": {},
   "outputs": [],
   "source": [
    "def generateMatrices(data):\n",
    "    binary=pd.concat([makeBinaryDFs(data, 'genres'), makeBinaryDFs(data, 'directors'), \\\n",
    "              makeBinaryDFs(data, 'actors'), makeBinaryDFs(data, 'content_rating'), \\\n",
    "              makeTfidfDF(data)], axis=1)\n",
    "    return pd.DataFrame(cosine_similarity(binary), index=binary.index, columns=binary.index)"
   ]
  },
  {
   "cell_type": "code",
   "execution_count": null,
   "id": "388e0c7d-2c5c-4f4d-8bd3-f0f180f8c2e9",
   "metadata": {},
   "outputs": [],
   "source": [
    "def getRecommendations(data, title, row_id, n):\n",
    "    cosine_similarities=generateMatrices(data)\n",
    "    results=cosine_similarities[row_id].sort_values(ascending=False)\n",
    "    similar=data.loc[results[results.index!=row_id].index[:n]]\n",
    "    return similar"
   ]
  },
  {
   "cell_type": "code",
   "execution_count": null,
   "id": "f815eca9-3bf9-41fe-ac5d-4995df5c9ab2",
   "metadata": {},
   "outputs": [],
   "source": [
    "def recommender(reviewer, title, n=5):\n",
    "    _id=imdb[imdb.reviewer==reviewer].reviewer_id.unique()\n",
    "    row_id=data[data.title==title].index\n",
    "    if len(_id)==0:\n",
    "        return \"No such reviewer\"\n",
    "    if row_id.shape[0]<1:\n",
    "        return \"No such title\"\n",
    "    reviewer_id=_id[0]\n",
    "    indices=predictThisUserRatings(reviewer_id)\n",
    "    if row_id[0] not in indices:\n",
    "        indices=list(indices)+[row_id[0]]\n",
    "    else:\n",
    "        indices=list(indices)\n",
    "    results=getRecommendations(data.loc[list(indices)], title, row_id[0], n)\n",
    "    return results[['title', 'genres', 'content_type', 'directors', \\\n",
    "                    'actors', 'content_rating', 'release_year', \\\n",
    "                    'summary', 'platforms']]"
   ]
  },
  {
   "cell_type": "markdown",
   "id": "54c425d7-6722-4227-9ebc-5bf02645ed57",
   "metadata": {},
   "source": [
    "<div style=\"font-family:Cambria; font-size:1.2em\">Few hybrid recommendation exmaples</div>"
   ]
  },
  {
   "cell_type": "code",
   "execution_count": null,
   "id": "12a25239-92f3-4fad-b5c8-4c65969e62e2",
   "metadata": {},
   "outputs": [],
   "source": [
    "%%time\n",
    "recommender(\"arishsankar\", \"Back to the Future\")"
   ]
  },
  {
   "cell_type": "code",
   "execution_count": null,
   "id": "1aeae7ad-3222-439e-a312-04ae3bfe1897",
   "metadata": {},
   "outputs": [],
   "source": [
    "%%time\n",
    "recommender(\"SnoopyStyle\", \"Jujutsu Kaisen\")"
   ]
  },
  {
   "cell_type": "code",
   "execution_count": null,
   "id": "1b3e2e43-76b4-414d-adbb-d73e8a2bddb2",
   "metadata": {
    "tags": []
   },
   "outputs": [],
   "source": [
    "recommender(\"SnoopyStyle\", \"Friends\")"
   ]
  },
  {
   "cell_type": "code",
   "execution_count": null,
   "id": "ae0863e0-f652-47e2-8649-ebcebee0727f",
   "metadata": {},
   "outputs": [],
   "source": []
  }
 ],
 "metadata": {
  "kernelspec": {
   "display_name": "Python 3",
   "language": "python",
   "name": "python3"
  },
  "language_info": {
   "codemirror_mode": {
    "name": "ipython",
    "version": 3
   },
   "file_extension": ".py",
   "mimetype": "text/x-python",
   "name": "python",
   "nbconvert_exporter": "python",
   "pygments_lexer": "ipython3",
   "version": "3.8.8"
  }
 },
 "nbformat": 4,
 "nbformat_minor": 5
}
